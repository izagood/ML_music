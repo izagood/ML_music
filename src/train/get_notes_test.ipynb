{
 "metadata": {
  "language_info": {
   "codemirror_mode": {
    "name": "ipython",
    "version": 3
   },
   "file_extension": ".py",
   "mimetype": "text/x-python",
   "name": "python",
   "nbconvert_exporter": "python",
   "pygments_lexer": "ipython3",
   "version": "3.8.6-final"
  },
  "orig_nbformat": 2,
  "kernelspec": {
   "name": "python3",
   "display_name": "Python 3",
   "language": "python"
  }
 },
 "nbformat": 4,
 "nbformat_minor": 2,
 "cells": [
  {
   "cell_type": "code",
   "execution_count": 2,
   "metadata": {},
   "outputs": [],
   "source": [
    "import matplotlib\n",
    "from music21 import *\n",
    "\n",
    "# musescoreDirectPNGPath\n",
    "us = environment.UserSettings()\n",
    "us.create()\n",
    "\n"
   ]
  },
  {
   "cell_type": "code",
   "execution_count": 3,
   "metadata": {},
   "outputs": [
    {
     "output_type": "stream",
     "name": "stdout",
     "text": [
      "autoDownload\nbraillePath\ndebug\ndirectoryScratch\ngraphicsPath\nipythonShowFormat\nlilypondBackend\nlilypondFormat\nlilypondPath\nlilypondVersion\nlocalCorporaSettings\nlocalCorpusPath\nlocalCorpusSettings\nmanualCoreCorpusPath\nmidiPath\nmusescoreDirectPNGPath\nmusicxmlPath\npdfPath\nshowFormat\nvectorPath\nwarnings\nwriteFormat\n"
     ]
    }
   ],
   "source": [
    "for key in sorted(us.keys()):\n",
    "    print(key)"
   ]
  },
  {
   "cell_type": "code",
   "execution_count": 4,
   "metadata": {},
   "outputs": [
    {
     "output_type": "execute_result",
     "data": {
      "text/plain": [
       "WindowsPath('c:/Dev/workspace/ML_music/src/train/C:/Program Files/MuseScore 3.5/MuseScore.exe')"
      ]
     },
     "metadata": {},
     "execution_count": 4
    }
   ],
   "source": [
    "us['musescoreDirectPNGPath']"
   ]
  },
  {
   "cell_type": "code",
   "execution_count": 5,
   "metadata": {},
   "outputs": [],
   "source": [
    "us['musescoreDirectPNGPath'] = 'C:/Program Files/MuseScore 3/bin/MuseScore3.exe'"
   ]
  },
  {
   "cell_type": "code",
   "execution_count": 6,
   "metadata": {},
   "outputs": [
    {
     "output_type": "execute_result",
     "data": {
      "text/plain": [
       "WindowsPath('C:/Program Files/MuseScore 3/bin/MuseScore3.exe')"
      ]
     },
     "metadata": {},
     "execution_count": 6
    }
   ],
   "source": [
    "us['musescoreDirectPNGPath']"
   ]
  },
  {
   "cell_type": "code",
   "execution_count": 7,
   "metadata": {},
   "outputs": [
    {
     "output_type": "display_data",
     "data": {
      "image/png": "[encoded data removed]",
      "text/plain": "<IPython.core.display.Image object>"
     },
     "metadata": {
      "image/png": {
       "width": 154,
       "height": 36
      }
     }
    }
   ],
   "source": [
    "n = note.Note(\"D#3\")\n",
    "n.duration.type = 'half'\n",
    "n.show()"
   ]
  },
  {
   "cell_type": "code",
   "execution_count": null,
   "metadata": {},
   "outputs": [],
   "source": []
  }
 ]
}